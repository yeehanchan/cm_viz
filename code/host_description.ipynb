{
 "cells": [
  {
   "cell_type": "code",
   "execution_count": 1,
   "metadata": {
    "collapsed": false
   },
   "outputs": [
    {
     "name": "stdout",
     "output_type": "stream",
     "text": [
      "Populating the interactive namespace from numpy and matplotlib\n"
     ]
    }
   ],
   "source": [
    "%pylab inline\n",
    "\n",
    "import sys\n",
    "sys.path.append('/Users/praveen/anaconda/lib/python2.7/site-packages')\n",
    "\n",
    "import rlcompleter, readline\n",
    "readline.parse_and_bind('tab: complete')\n",
    "import matplotlib.pyplot as plt\n",
    "import numpy as np\n",
    "import pandas as pd\n",
    "import nltk, re, pprint\n"
   ]
  },
  {
   "cell_type": "code",
   "execution_count": 2,
   "metadata": {
    "collapsed": false
   },
   "outputs": [
    {
     "name": "stderr",
     "output_type": "stream",
     "text": [
      "/Library/Frameworks/Python.framework/Versions/2.7/lib/python2.7/site-packages/IPython/core/interactiveshell.py:2723: DtypeWarning: Columns (40) have mixed types. Specify dtype option on import or set low_memory=False.\n",
      "  interactivity=interactivity, compiler=compiler, result=result)\n"
     ]
    }
   ],
   "source": [
    "data = pd.read_csv('data/listings.csv')\n",
    "data['price'] = data['price'].apply(lambda x:float(x.strip('$').replace(',','')))\n",
    "price_num = data[['price','reviews_per_month']]\n",
    "price_score = data[['price','review_scores_rating']]\n",
    "price_commu = data[['price','review_scores_communication']]"
   ]
  },
  {
   "cell_type": "markdown",
   "metadata": {},
   "source": [
    "Index(['id', 'listing_url', 'scrape_id', 'last_scraped', 'name', 'summary',\n",
    "       'space', 'description', 'experiences_offered', 'neighborhood_overview',\n",
    "       'notes', 'transit', 'thumbnail_url', 'medium_url', 'picture_url',\n",
    "       'xl_picture_url', 'host_id', 'host_url', 'host_name', 'host_since',\n",
    "       'host_location', 'host_about', 'host_response_time',\n",
    "       'host_response_rate', 'host_acceptance_rate', 'host_is_superhost',\n",
    "       'host_thumbnail_url', 'host_picture_url', 'host_neighbourhood',\n",
    "       'host_listings_count', 'host_total_listings_count',\n",
    "       'host_verifications', 'host_has_profile_pic', 'host_identity_verified',\n",
    "       'street', 'neighbourhood', 'neighbourhood_cleansed',\n",
    "       'neighbourhood_group_cleansed', 'city', 'state', 'zipcode', 'market',\n",
    "       'smart_location', 'country_code', 'country', 'latitude', 'longitude',\n",
    "       'is_location_exact', 'property_type', 'room_type', 'accommodates',\n",
    "       'bathrooms', 'bedrooms', 'beds', 'bed_type', 'amenities', 'square_feet',\n",
    "       'price', 'weekly_price', 'monthly_price', 'security_deposit',\n",
    "       'cleaning_fee', 'guests_included', 'extra_people', 'minimum_nights',\n",
    "       'maximum_nights', 'calendar_updated', 'has_availability',\n",
    "       'availability_30', 'availability_60', 'availability_90',\n",
    "       'availability_365', 'calendar_last_scraped', 'number_of_reviews',\n",
    "       'first_review', 'last_review', 'review_scores_rating',\n",
    "       'review_scores_accuracy', 'review_scores_cleanliness',\n",
    "       'review_scores_checkin', 'review_scores_communication',\n",
    "       'review_scores_location', 'review_scores_value', 'requires_license',\n",
    "       'license', 'jurisdiction_names', 'instant_bookable',\n",
    "       'cancellation_policy', 'require_guest_profile_picture',\n",
    "       'require_guest_phone_verification', 'calculated_host_listings_count',\n",
    "       'reviews_per_month'],\n",
    "      dtype='object')"
   ]
  },
  {
   "cell_type": "code",
   "execution_count": 6,
   "metadata": {
    "collapsed": false
   },
   "outputs": [
    {
     "name": "stderr",
     "output_type": "stream",
     "text": [
      "/Library/Frameworks/Python.framework/Versions/2.7/lib/python2.7/site-packages/ipykernel/__main__.py:4: SettingWithCopyWarning: \n",
      "A value is trying to be set on a copy of a slice from a DataFrame.\n",
      "Try using .loc[row_indexer,col_indexer] = value instead\n",
      "\n",
      "See the caveats in the documentation: http://pandas.pydata.org/pandas-docs/stable/indexing.html#indexing-view-versus-copy\n"
     ]
    }
   ],
   "source": [
    "place_description  = data[['description']]\n",
    "host_description = data[['host_about']].sample(n=100)\n",
    "host_description = host_description.fillna(\"empty\")\n",
    "price_score['review_scores_rating'] = price_score['review_scores_rating'].fillna(0)\n",
    "info_host_desciption=[]\n",
    "corresponding_rating = []"
   ]
  },
  {
   "cell_type": "code",
   "execution_count": 7,
   "metadata": {
    "collapsed": false
   },
   "outputs": [
    {
     "name": "stdout",
     "output_type": "stream",
     "text": [
      "100\n"
     ]
    }
   ],
   "source": [
    "print len(host_description)"
   ]
  },
  {
   "cell_type": "code",
   "execution_count": 8,
   "metadata": {
    "collapsed": false
   },
   "outputs": [],
   "source": [
    "def ie_preprocess(document):\n",
    "\n",
    "    if document is \"empty\":\n",
    "        return 0\n",
    "    else:\n",
    "        info=0\n",
    "        sentences = nltk.sent_tokenize(document)\n",
    "        sentences = [nltk.word_tokenize(sent) for sent in sentences]\n",
    "        sentences = [nltk.pos_tag(sent) for sent in sentences]\n",
    "        for tuples in sentences:\n",
    "            for token,pos in tuples:\n",
    "                if pos.startswith('N') or pos.startswith('J'):\n",
    "                    info+=1\n",
    "        return info"
   ]
  },
  {
   "cell_type": "code",
   "execution_count": 9,
   "metadata": {
    "collapsed": false
   },
   "outputs": [],
   "source": [
    "for index, row in host_description.iterrows():\n",
    "    info_host_desciption.append(ie_preprocess(host_description.loc[index]['host_about'].decode(\"utf8\")))\n",
    "    corresponding_rating.append(price_score['review_scores_rating'][index])"
   ]
  },
  {
   "cell_type": "code",
   "execution_count": 10,
   "metadata": {
    "collapsed": false
   },
   "outputs": [
    {
     "name": "stdout",
     "output_type": "stream",
     "text": [
      "100\n",
      "100\n"
     ]
    }
   ],
   "source": [
    "print len(corresponding_rating)\n",
    "print len(info_host_desciption)"
   ]
  },
  {
   "cell_type": "code",
   "execution_count": 11,
   "metadata": {
    "collapsed": false
   },
   "outputs": [
    {
     "data": {
      "text/plain": [
       "<matplotlib.collections.PathCollection at 0x119596a10>"
      ]
     },
     "execution_count": 11,
     "metadata": {},
     "output_type": "execute_result"
    },
    {
     "data": {
      "image/png": "[encoded data removed]",
      "text/plain": [
       "<matplotlib.figure.Figure at 0x123a77950>"
      ]
     },
     "metadata": {},
     "output_type": "display_data"
    }
   ],
   "source": [
    "plt.scatter(info_host_desciption, corresponding_rating[:100])"
   ]
  },
  {
   "cell_type": "code",
   "execution_count": 12,
   "metadata": {
    "collapsed": true
   },
   "outputs": [],
   "source": [
    "number_of_rating=[]\n",
    "for index, row in host_description.iterrows():\n",
    "    number_of_rating.append(data['number_of_reviews'][index])"
   ]
  },
  {
   "cell_type": "code",
   "execution_count": 13,
   "metadata": {
    "collapsed": false
   },
   "outputs": [
    {
     "data": {
      "text/plain": [
       "<matplotlib.collections.PathCollection at 0x11870d990>"
      ]
     },
     "execution_count": 13,
     "metadata": {},
     "output_type": "execute_result"
    },
    {
     "data": {
      "image/png": "[encoded data removed]",
      "text/plain": [
       "<matplotlib.figure.Figure at 0x12347ae90>"
      ]
     },
     "metadata": {},
     "output_type": "display_data"
    }
   ],
   "source": [
    "plt.scatter(info_host_desciption, number_of_rating)"
   ]
  },
  {
   "cell_type": "code",
   "execution_count": 14,
   "metadata": {
    "collapsed": true
   },
   "outputs": [],
   "source": [
    "from bokeh.plotting import figure, output_notebook, show, vplot"
   ]
  },
  {
   "cell_type": "code",
   "execution_count": 15,
   "metadata": {
    "collapsed": false
   },
   "outputs": [
    {
     "data": {
      "text/html": [
       "\n",
       "\n",
       "    <script type=\"text/javascript\">\n",
       "      \n",
       "      (function(global) {\n",
       "        function now() {\n",
       "          return new Date();\n",
       "        }\n",
       "      \n",
       "        if (typeof (window._bokeh_onload_callbacks) === \"undefined\") {\n",
       "          window._bokeh_onload_callbacks = [];\n",
       "        }\n",
       "      \n",
       "        function run_callbacks() {\n",
       "          window._bokeh_onload_callbacks.forEach(function(callback) { callback() });\n",
       "          delete window._bokeh_onload_callbacks\n",
       "          console.info(\"Bokeh: all callbacks have finished\");\n",
       "        }\n",
       "      \n",
       "        function load_libs(js_urls, callback) {\n",
       "          window._bokeh_onload_callbacks.push(callback);\n",
       "          if (window._bokeh_is_loading > 0) {\n",
       "            console.log(\"Bokeh: BokehJS is being loaded, scheduling callback at\", now());\n",
       "            return null;\n",
       "          }\n",
       "          if (js_urls == null || js_urls.length === 0) {\n",
       "            run_callbacks();\n",
       "            return null;\n",
       "          }\n",
       "          console.log(\"Bokeh: BokehJS not loaded, scheduling load and callback at\", now());\n",
       "          window._bokeh_is_loading = js_urls.length;\n",
       "          for (var i = 0; i < js_urls.length; i++) {\n",
       "            var url = js_urls[i];\n",
       "            var s = document.createElement('script');\n",
       "            s.src = url;\n",
       "            s.async = false;\n",
       "            s.onreadystatechange = s.onload = function() {\n",
       "              window._bokeh_is_loading--;\n",
       "              if (window._bokeh_is_loading === 0) {\n",
       "                console.log(\"Bokeh: all BokehJS libraries loaded\");\n",
       "                run_callbacks()\n",
       "              }\n",
       "            };\n",
       "            s.onerror = function() {\n",
       "              console.warn(\"failed to load library \" + url);\n",
       "            };\n",
       "            console.log(\"Bokeh: injecting script tag for BokehJS library: \", url);\n",
       "            document.getElementsByTagName(\"head\")[0].appendChild(s);\n",
       "          }\n",
       "        };var js_urls = ['https://cdn.pydata.org/bokeh/release/bokeh-0.11.0.min.js', 'https://cdn.pydata.org/bokeh/release/bokeh-widgets-0.11.0.min.js', 'https://cdn.pydata.org/bokeh/release/bokeh-compiler-0.11.0.min.js'];\n",
       "      \n",
       "        var inline_js = [\n",
       "          function(Bokeh) {\n",
       "            Bokeh.set_log_level(\"info\");\n",
       "          },\n",
       "          function(Bokeh) {\n",
       "            console.log(\"Bokeh: injecting CSS: https://cdn.pydata.org/bokeh/release/bokeh-0.11.0.min.css\");\n",
       "            Bokeh.embed.inject_css(\"https://cdn.pydata.org/bokeh/release/bokeh-0.11.0.min.css\");\n",
       "            console.log(\"Bokeh: injecting CSS: https://cdn.pydata.org/bokeh/release/bokeh-widgets-0.11.0.min.css\");\n",
       "            Bokeh.embed.inject_css(\"https://cdn.pydata.org/bokeh/release/bokeh-widgets-0.11.0.min.css\");\n",
       "          }\n",
       "        ];\n",
       "      \n",
       "        function run_inline_js() {\n",
       "          for (var i = 0; i < inline_js.length; i++) {\n",
       "            inline_js[i](window.Bokeh);\n",
       "          }\n",
       "        }\n",
       "      \n",
       "        if (window._bokeh_is_loading === 0) {\n",
       "          console.log(\"Bokeh: BokehJS loaded, going straight to plotting\");\n",
       "          run_inline_js();\n",
       "        } else {\n",
       "          load_libs(js_urls, function() {\n",
       "            console.log(\"Bokeh: BokehJS plotting callback run at\", now());\n",
       "            run_inline_js();\n",
       "          });\n",
       "        }\n",
       "      }(this));\n",
       "    </script>\n",
       "    <div>\n",
       "        <a href=\"http://bokeh.pydata.org\" target=\"_blank\" class=\"bk-logo bk-logo-small bk-logo-notebook\"></a>\n",
       "        <span>BokehJS successfully loaded.</span>\n",
       "    </div>"
      ]
     },
     "metadata": {},
     "output_type": "display_data"
    }
   ],
   "source": [
    "output_notebook()"
   ]
  },
  {
   "cell_type": "code",
   "execution_count": 21,
   "metadata": {
    "collapsed": false
   },
   "outputs": [],
   "source": [
    "corresponding_rating = [int(c) for c in corresponding_rating]\n",
    "df = pd.DataFrame({ 'Score': corresponding_rating,\n",
    "                    'Number': number_of_rating,\n",
    "                    'info': info_host_desciption\n",
    "    })\n"
   ]
  },
  {
   "cell_type": "code",
   "execution_count": 22,
   "metadata": {
    "collapsed": false
   },
   "outputs": [
    {
     "name": "stdout",
     "output_type": "stream",
     "text": [
      "    Number  Score  info\n",
      "0        6     93    42\n",
      "1       12     92    27\n",
      "2        0      0     4\n",
      "3        0      0     1\n",
      "4        1    100     1\n",
      "5        0      0     1\n",
      "6        1      0     1\n",
      "7       15     95     1\n",
      "8       13     83     5\n",
      "9        0      0     1\n",
      "10      20     96    24\n",
      "11       8     90    14\n",
      "12       0      0    24\n",
      "13       1      0     4\n",
      "14       0      0     1\n",
      "15       6     97    14\n",
      "16       0      0     1\n",
      "17       8     93    16\n",
      "18       4    100    43\n",
      "19      46     98    17\n",
      "20       2    100     4\n",
      "21       1    100     8\n",
      "22       1    100    31\n",
      "23       4     95    19\n",
      "24       2    100    13\n",
      "25       2    100     1\n",
      "26       3     87    20\n",
      "27      28     96     4\n",
      "28       3    100    10\n",
      "29      35     89    16\n",
      "..     ...    ...   ...\n",
      "68       0      0     1\n",
      "69       5    100    15\n",
      "70       6     87     1\n",
      "71       3    100     1\n",
      "72      13     91     3\n",
      "73      27     86    21\n",
      "74      17     93     6\n",
      "75       0      0     1\n",
      "76       0      0    30\n",
      "77      13     90    16\n",
      "78       0      0    33\n",
      "79      25     94     3\n",
      "80      66     94    27\n",
      "81      37     81     7\n",
      "82       2    100     1\n",
      "84       0      0     2\n",
      "85       6     87     7\n",
      "86       2     90     1\n",
      "87      10     94     2\n",
      "88       2    100     4\n",
      "89       6    100     1\n",
      "90       1    100    21\n",
      "91       3    100    24\n",
      "92       2     90    18\n",
      "93       1    100     9\n",
      "94       0      0     1\n",
      "96       4    100     5\n",
      "97      10     98     1\n",
      "98      83     93     5\n",
      "99       4     85    43\n",
      "\n",
      "[97 rows x 3 columns]\n"
     ]
    }
   ],
   "source": [
    "df = df[df['info'] <=50]\n",
    "print df"
   ]
  },
  {
   "cell_type": "code",
   "execution_count": 31,
   "metadata": {
    "collapsed": false
   },
   "outputs": [],
   "source": [
    "df2 = df[['info','Number']].groupby(['info','Number']).size().reset_index(name='freq')"
   ]
  },
  {
   "cell_type": "code",
   "execution_count": 32,
   "metadata": {
    "collapsed": false
   },
   "outputs": [],
   "source": [
    "df3 = df[['info','Score']].groupby(['info','Score']).size().reset_index(name='freq_s')"
   ]
  },
  {
   "cell_type": "code",
   "execution_count": 34,
   "metadata": {
    "collapsed": false
   },
   "outputs": [
    {
     "name": "stdout",
     "output_type": "stream",
     "text": [
      "    info  Number  freq\n",
      "0      1       0    10\n",
      "1      1       1     6\n",
      "2      1       2     3\n",
      "3      1       3     1\n",
      "4      1       6     2\n",
      "5      1       9     1\n",
      "6      1      10     2\n",
      "7      1      12     1\n",
      "8      1      15     1\n",
      "9      1      80     1\n",
      "10     2       0     1\n",
      "11     2      10     1\n",
      "12     3       0     1\n",
      "13     3      13     1\n",
      "14     3      25     1\n",
      "15     4       0     1\n",
      "16     4       1     1\n",
      "17     4       2     2\n",
      "18     4      28     1\n",
      "19     4     117     1\n",
      "20     5       0     1\n",
      "21     5       4     1\n",
      "22     5      12     1\n",
      "23     5      13     1\n",
      "24     5      83     1\n",
      "25     6       0     1\n",
      "26     6      17     1\n",
      "27     7       6     1\n",
      "28     7      37     1\n",
      "29     8       1     1\n",
      "..   ...     ...   ...\n",
      "46    17      46     1\n",
      "47    18       1     1\n",
      "48    18       2     1\n",
      "49    19       0     1\n",
      "50    19       3     1\n",
      "51    19       4     1\n",
      "52    19      57     1\n",
      "53    20       3     1\n",
      "54    20      16     1\n",
      "55    21       1     1\n",
      "56    21      27     1\n",
      "57    22       3     1\n",
      "58    23       0     1\n",
      "59    23       2     1\n",
      "60    23     145     1\n",
      "61    24       0     2\n",
      "62    24       3     1\n",
      "63    24      20     1\n",
      "64    25       0     1\n",
      "65    27      12     1\n",
      "66    27      66     1\n",
      "67    30       0     1\n",
      "68    30      14     1\n",
      "69    31       1     1\n",
      "70    32       5     1\n",
      "71    33       0     1\n",
      "72    42       2     1\n",
      "73    42       6     1\n",
      "74    43       4     2\n",
      "75    48      88     1\n",
      "\n",
      "[76 rows x 3 columns]\n"
     ]
    }
   ],
   "source": [
    "print df2\n",
    "keys = df2.groupby(['info']).size().reset_index(name='freq')\n",
    "keys_score = df3.groupby(['info']).size().reset_index(name='freq_s')"
   ]
  },
  {
   "cell_type": "code",
   "execution_count": 35,
   "metadata": {
    "collapsed": false
   },
   "outputs": [
    {
     "name": "stdout",
     "output_type": "stream",
     "text": [
      "   info  freq_s\n",
      "0     1       8\n",
      "1     2       2\n",
      "2     3       3\n",
      "3     4       4\n",
      "4     5       5\n"
     ]
    }
   ],
   "source": [
    "keys= keys[:5]\n",
    "keys_score = keys_score[:5]\n",
    "print keys_score"
   ]
  },
  {
   "cell_type": "code",
   "execution_count": 38,
   "metadata": {
    "collapsed": false
   },
   "outputs": [
    {
     "data": {
      "text/html": [
       "\n",
       "\n",
       "    <div class=\"plotdiv\" id=\"22a47b10-1058-47b2-b45d-861c87ef3027\"></div>\n",
       "<script type=\"text/javascript\">\n",
       "  \n",
       "  (function(global) {\n",
       "    function now() {\n",
       "      return new Date();\n",
       "    }\n",
       "  \n",
       "    if (typeof (window._bokeh_onload_callbacks) === \"undefined\") {\n",
       "      window._bokeh_onload_callbacks = [];\n",
       "    }\n",
       "  \n",
       "    function run_callbacks() {\n",
       "      window._bokeh_onload_callbacks.forEach(function(callback) { callback() });\n",
       "      delete window._bokeh_onload_callbacks\n",
       "      console.info(\"Bokeh: all callbacks have finished\");\n",
       "    }\n",
       "  \n",
       "    function load_libs(js_urls, callback) {\n",
       "      window._bokeh_onload_callbacks.push(callback);\n",
       "      if (window._bokeh_is_loading > 0) {\n",
       "        console.log(\"Bokeh: BokehJS is being loaded, scheduling callback at\", now());\n",
       "        return null;\n",
       "      }\n",
       "      if (js_urls == null || js_urls.length === 0) {\n",
       "        run_callbacks();\n",
       "        return null;\n",
       "      }\n",
       "      console.log(\"Bokeh: BokehJS not loaded, scheduling load and callback at\", now());\n",
       "      window._bokeh_is_loading = js_urls.length;\n",
       "      for (var i = 0; i < js_urls.length; i++) {\n",
       "        var url = js_urls[i];\n",
       "        var s = document.createElement('script');\n",
       "        s.src = url;\n",
       "        s.async = false;\n",
       "        s.onreadystatechange = s.onload = function() {\n",
       "          window._bokeh_is_loading--;\n",
       "          if (window._bokeh_is_loading === 0) {\n",
       "            console.log(\"Bokeh: all BokehJS libraries loaded\");\n",
       "            run_callbacks()\n",
       "          }\n",
       "        };\n",
       "        s.onerror = function() {\n",
       "          console.warn(\"failed to load library \" + url);\n",
       "        };\n",
       "        console.log(\"Bokeh: injecting script tag for BokehJS library: \", url);\n",
       "        document.getElementsByTagName(\"head\")[0].appendChild(s);\n",
       "      }\n",
       "    };var element = document.getElementById(\"22a47b10-1058-47b2-b45d-861c87ef3027\");\n",
       "    if (element == null) {\n",
       "      console.log(\"Bokeh: ERROR: autoload.js configured with elementid '22a47b10-1058-47b2-b45d-861c87ef3027' but no matching script tag was found. \")\n",
       "      return false;\n",
       "    }var js_urls = [];\n",
       "  \n",
       "    var inline_js = [\n",
       "      function(Bokeh) {\n",
       "        Bokeh.$(function() {\n",
       "            var docs_json = {\"816c4bff-fd14-4550-b0a5-ea944ea88a24\": {\"version\": \"0.11.0\", \"roots\": {\"root_ids\": [\"c26003dd-d87f-4916-a9a2-da8851fa402e\", \"ab21b797-eca3-4791-9e1a-362de8726071\", \"8981acf9-d5d9-4fb9-a106-ae229fe1369f\", \"3641668e-be7d-435f-b67c-4932467a6b09\"], \"references\": [{\"attributes\": {\"line_color\": {\"value\": \"green\"}, \"line_alpha\": {\"value\": 0.5}, \"fill_color\": {\"value\": \"green\"}, \"fill_alpha\": {\"value\": 0.5}, \"y\": {\"field\": \"y\"}, \"x\": {\"field\": \"x\"}, \"size\": {\"units\": \"screen\", \"value\": 9}}, \"type\": \"Triangle\", \"id\": \"0ebd5f81-3915-434b-b4a5-f2b5d24cf580\"}, {\"attributes\": {}, \"type\": \"BasicTickFormatter\", \"id\": \"0581aa6f-31a2-4732-a4b4-96b961707b22\"}, {\"attributes\": {\"line_color\": {\"value\": \"firebrick\"}, \"line_alpha\": {\"value\": 0.5}, \"fill_color\": {\"value\": \"firebrick\"}, \"fill_alpha\": {\"value\": 0.5}, \"y\": {\"field\": \"y\"}, \"x\": {\"field\": \"x\"}, \"size\": {\"units\": \"screen\", \"value\": 9}}, \"type\": \"Circle\", \"id\": \"62930719-778a-434d-8397-52635aca4efc\"}, {\"attributes\": {\"line_color\": {\"value\": \"#1f77b4\"}, \"line_alpha\": {\"value\": 0.1}, \"fill_color\": {\"value\": \"#1f77b4\"}, \"fill_alpha\": {\"value\": 0.1}, \"y\": {\"field\": \"y\"}, \"x\": {\"field\": \"x\"}, \"size\": {\"units\": \"screen\", \"value\": 9}}, \"type\": \"Triangle\", \"id\": \"955acfbd-216b-400c-98e7-9a9a3cd35016\"}, {\"attributes\": {\"plot\": {\"subtype\": \"Figure\", \"type\": \"Plot\", \"id\": \"c26003dd-d87f-4916-a9a2-da8851fa402e\"}}, \"type\": \"WheelZoomTool\", \"id\": \"64696938-f63c-428e-9de4-03296cfa4b4a\"}, {\"attributes\": {\"line_color\": {\"value\": \"green\"}, \"line_alpha\": {\"value\": 0.5}, \"fill_color\": {\"value\": \"green\"}, \"fill_alpha\": {\"value\": 0.5}, \"y\": {\"field\": \"y\"}, \"x\": {\"field\": \"x\"}, \"size\": {\"units\": \"screen\", \"value\": 9}}, \"type\": \"Triangle\", \"id\": \"f02a04d0-04a7-4ce6-a4fb-322064400fab\"}, {\"attributes\": {\"x_range\": {\"type\": \"DataRange1d\", \"id\": \"022f567e-9822-48c1-a087-e13e89aa848e\"}, \"y_range\": {\"type\": \"DataRange1d\", \"id\": \"8c7531d3-7644-40f8-a5a3-1ab0db21ccd4\"}, \"renderers\": [{\"type\": \"LinearAxis\", \"id\": \"067a14a6-35f8-4a9d-93a0-7f8105017998\"}, {\"type\": \"Grid\", \"id\": \"5f687537-6a5f-4fbd-8432-f8c23ba8127a\"}, {\"type\": \"LinearAxis\", \"id\": \"efaff52c-70a7-4e82-b48d-4b9d0a92a468\"}, {\"type\": \"Grid\", \"id\": \"819854ec-553c-416c-ad3e-b51e0c3c61b4\"}, {\"type\": \"BoxAnnotation\", \"id\": \"3fa7faad-03ca-42f3-95ea-072d32ff098a\"}], \"plot_width\": 500, \"below\": [{\"type\": \"LinearAxis\", \"id\": \"067a14a6-35f8-4a9d-93a0-7f8105017998\"}], \"tool_events\": {\"type\": \"ToolEvents\", \"id\": \"37021bdc-81c4-47ab-bb32-e9fe86916abc\"}, \"plot_height\": 500, \"tools\": [{\"type\": \"PanTool\", \"id\": \"a02036c8-353f-4e8a-9376-70f456238365\"}, {\"type\": \"WheelZoomTool\", \"id\": \"64696938-f63c-428e-9de4-03296cfa4b4a\"}, {\"type\": \"BoxZoomTool\", \"id\": \"f0b6a4e4-3d7c-4faa-8e31-7330bc1e1096\"}, {\"type\": \"PreviewSaveTool\", \"id\": \"9a00b0d8-d015-4ae9-b87c-b570072b6648\"}, {\"type\": \"ResizeTool\", \"id\": \"15e0bc18-b415-4f62-9d96-fc89c420c98a\"}, {\"type\": \"ResetTool\", \"id\": \"dc496bc4-e590-4be8-9cd5-3bb15854db8d\"}, {\"type\": \"HelpTool\", \"id\": \"1001231b-662a-49c2-911e-798af9c4de38\"}], \"left\": [{\"type\": \"LinearAxis\", \"id\": \"efaff52c-70a7-4e82-b48d-4b9d0a92a468\"}]}, \"type\": \"Plot\", \"id\": \"c26003dd-d87f-4916-a9a2-da8851fa402e\", \"subtype\": \"Figure\"}, {\"attributes\": {\"plot\": {\"subtype\": \"Figure\", \"type\": \"Plot\", \"id\": \"8981acf9-d5d9-4fb9-a106-ae229fe1369f\"}}, \"type\": \"HelpTool\", \"id\": \"675522ba-6cd5-4359-98be-375fbb3c9453\"}, {\"attributes\": {}, \"type\": \"BasicTickFormatter\", \"id\": \"3a7f4199-4d5f-4f9b-8942-be874eaf44f3\"}, {\"attributes\": {}, \"type\": \"ToolEvents\", \"id\": \"5a6e3e55-e736-4201-a633-c59fddd5ad40\"}, {\"attributes\": {\"callback\": null}, \"type\": \"DataRange1d\", \"id\": \"022f567e-9822-48c1-a087-e13e89aa848e\"}, {\"attributes\": {\"callback\": null}, \"type\": \"DataRange1d\", \"id\": \"60655d66-56c5-4a42-9f51-1ded3e812ae6\"}, {\"attributes\": {\"plot\": {\"subtype\": \"Figure\", \"type\": \"Plot\", \"id\": \"c26003dd-d87f-4916-a9a2-da8851fa402e\"}}, \"type\": \"PanTool\", \"id\": \"a02036c8-353f-4e8a-9376-70f456238365\"}, {\"attributes\": {\"plot\": {\"subtype\": \"Figure\", \"type\": \"Plot\", \"id\": \"8981acf9-d5d9-4fb9-a106-ae229fe1369f\"}, \"overlay\": {\"type\": \"BoxAnnotation\", \"id\": \"e90b1a09-3f06-4c12-83ab-271f81106118\"}}, \"type\": \"BoxZoomTool\", \"id\": \"546dab14-c8d6-44cb-97a9-9bba73baf2e8\"}, {\"attributes\": {\"plot\": {\"subtype\": \"Figure\", \"type\": \"Plot\", \"id\": \"8981acf9-d5d9-4fb9-a106-ae229fe1369f\"}}, \"type\": \"PanTool\", \"id\": \"ce9dc1a9-b50c-4654-a500-2a68a0bdaf19\"}, {\"attributes\": {}, \"type\": \"BasicTickFormatter\", \"id\": \"0e06b97b-4a64-4418-873b-78dd49f34af8\"}, {\"attributes\": {\"plot\": {\"subtype\": \"Figure\", \"type\": \"Plot\", \"id\": \"ab21b797-eca3-4791-9e1a-362de8726071\"}}, \"type\": \"PreviewSaveTool\", \"id\": \"1f87f74b-f3aa-47c0-bfb3-ca6fcd5fc54b\"}, {\"attributes\": {\"plot\": {\"subtype\": \"Figure\", \"type\": \"Plot\", \"id\": \"3641668e-be7d-435f-b67c-4932467a6b09\"}, \"formatter\": {\"type\": \"BasicTickFormatter\", \"id\": \"b664bcf3-e2c1-4184-8cf0-8520fa7631fb\"}, \"ticker\": {\"type\": \"BasicTicker\", \"id\": \"ee1ff7d4-d1f1-409a-b517-906db2d22fc4\"}}, \"type\": \"LinearAxis\", \"id\": \"5161265e-e685-4644-aa2a-08ffed9c181f\"}, {\"attributes\": {\"line_color\": {\"value\": \"firebrick\"}, \"line_alpha\": {\"value\": 0.5}, \"fill_color\": {\"value\": \"firebrick\"}, \"fill_alpha\": {\"value\": 0.5}, \"y\": {\"field\": \"y\"}, \"x\": {\"field\": \"x\"}, \"size\": {\"units\": \"screen\", \"value\": 9}}, \"type\": \"Circle\", \"id\": \"cdf1be7a-8ca2-4013-9514-a99b6281747d\"}, {\"attributes\": {\"callback\": null, \"column_names\": [\"x\", \"y\"], \"data\": {\"y\": [0, 1, 2, 3, 6, 9, 10, 12, 15, 80, 0, 10, 0, 13, 25, 0, 1, 2, 28, 117, 0, 4, 12, 13, 83, 0, 17, 6, 37, 1, 2, 0, 1, 9, 3, 15, 1, 2, 6, 8, 15, 5, 6, 8, 13, 35, 46, 1, 2, 0, 3, 4, 57, 3, 16, 1, 27, 3, 0, 2, 145, 0, 3, 20, 0, 12, 66, 0, 14, 1, 5, 0, 2, 6, 4, 88], \"x\": [1, 1, 1, 1, 1, 1, 1, 1, 1, 1, 2, 2, 3, 3, 3, 4, 4, 4, 4, 4, 5, 5, 5, 5, 5, 6, 6, 7, 7, 8, 8, 9, 9, 9, 10, 10, 13, 13, 14, 14, 14, 15, 16, 16, 16, 16, 17, 18, 18, 19, 19, 19, 19, 20, 20, 21, 21, 22, 23, 23, 23, 24, 24, 24, 25, 27, 27, 30, 30, 31, 32, 33, 42, 42, 43, 48]}}, \"type\": \"ColumnDataSource\", \"id\": \"de68c60e-ec56-4dec-a9c6-53baf12d87f2\"}, {\"attributes\": {\"plot\": {\"subtype\": \"Figure\", \"type\": \"Plot\", \"id\": \"ab21b797-eca3-4791-9e1a-362de8726071\"}}, \"type\": \"PanTool\", \"id\": \"602cdb34-0848-4dc4-b74b-eeef50111f35\"}, {\"attributes\": {\"plot\": {\"subtype\": \"Figure\", \"type\": \"Plot\", \"id\": \"c26003dd-d87f-4916-a9a2-da8851fa402e\"}}, \"type\": \"ResizeTool\", \"id\": \"15e0bc18-b415-4f62-9d96-fc89c420c98a\"}, {\"attributes\": {\"line_color\": {\"value\": \"black\"}, \"line_alpha\": {\"value\": 1.0}, \"render_mode\": \"css\", \"bottom_units\": \"screen\", \"level\": \"overlay\", \"top_units\": \"screen\", \"fill_alpha\": {\"value\": 0.5}, \"plot\": null, \"left_units\": \"screen\", \"line_dash\": [4, 4], \"line_width\": {\"value\": 2}, \"right_units\": \"screen\", \"fill_color\": {\"value\": \"lightgrey\"}}, \"type\": \"BoxAnnotation\", \"id\": \"d84a6894-9395-4c16-aca8-bd040978ad4d\"}, {\"attributes\": {\"plot\": {\"subtype\": \"Figure\", \"type\": \"Plot\", \"id\": \"c26003dd-d87f-4916-a9a2-da8851fa402e\"}}, \"type\": \"ResetTool\", \"id\": \"dc496bc4-e590-4be8-9cd5-3bb15854db8d\"}, {\"attributes\": {}, \"type\": \"BasicTickFormatter\", \"id\": \"d913729b-290a-4b0f-8762-48d7ca153a3e\"}, {\"attributes\": {\"line_color\": {\"value\": \"black\"}, \"line_alpha\": {\"value\": 1.0}, \"render_mode\": \"css\", \"bottom_units\": \"screen\", \"level\": \"overlay\", \"top_units\": \"screen\", \"fill_alpha\": {\"value\": 0.5}, \"plot\": null, \"left_units\": \"screen\", \"line_dash\": [4, 4], \"line_width\": {\"value\": 2}, \"right_units\": \"screen\", \"fill_color\": {\"value\": \"lightgrey\"}}, \"type\": \"BoxAnnotation\", \"id\": \"e90b1a09-3f06-4c12-83ab-271f81106118\"}, {\"attributes\": {\"callback\": null, \"column_names\": [\"y\", \"x\"], \"data\": {\"y\": [0, 87, 90, 92, 95, 96, 98, 100, 0, 94, 0, 91, 94, 0, 77, 96, 100, 0, 83, 93, 97, 100, 0, 93, 81, 87, 100, 0, 80, 100, 85, 100, 100, 90, 92, 97, 100, 89, 90, 93, 96, 98, 90, 100, 0, 92, 93, 95, 87, 97, 86, 100, 73, 0, 88, 100, 0, 96, 100, 0, 92, 94, 0, 100, 100, 88, 0, 80, 93, 85, 100, 89], \"x\": [1, 1, 1, 1, 1, 1, 1, 1, 2, 2, 3, 3, 3, 4, 4, 4, 4, 5, 5, 5, 5, 5, 6, 6, 7, 7, 8, 9, 9, 9, 10, 10, 13, 14, 14, 14, 15, 16, 16, 16, 16, 17, 18, 18, 19, 19, 19, 19, 20, 20, 21, 21, 22, 23, 23, 23, 24, 24, 24, 25, 27, 27, 30, 30, 31, 32, 33, 42, 42, 43, 43, 48]}}, \"type\": \"ColumnDataSource\", \"id\": \"c6026e13-f2d9-476a-b442-890c768beb5c\"}, {\"attributes\": {\"callback\": null, \"column_names\": [\"y\", \"x\"], \"data\": {\"y\": [0, 87, 90, 92, 95, 96, 98, 100, 0, 94, 0, 91, 94, 0, 77, 96, 100, 0, 83, 93, 97, 100, 0, 93, 81, 87, 100, 0, 80, 100, 85, 100, 100, 90, 92, 97, 100, 89, 90, 93, 96, 98, 90, 100, 0, 92, 93, 95, 87, 97, 86, 100, 73, 0, 88, 100, 0, 96, 100, 0, 92, 94, 0, 100, 100, 88, 0, 80, 93, 85, 100, 89], \"x\": [1, 1, 1, 1, 1, 1, 1, 1, 2, 2, 3, 3, 3, 4, 4, 4, 4, 5, 5, 5, 5, 5, 6, 6, 7, 7, 8, 9, 9, 9, 10, 10, 13, 14, 14, 14, 15, 16, 16, 16, 16, 17, 18, 18, 19, 19, 19, 19, 20, 20, 21, 21, 22, 23, 23, 23, 24, 24, 24, 25, 27, 27, 30, 30, 31, 32, 33, 42, 42, 43, 43, 48]}}, \"type\": \"ColumnDataSource\", \"id\": \"f2671081-651a-44e0-a72a-7f5b954ecf8c\"}, {\"attributes\": {\"plot\": {\"subtype\": \"Figure\", \"type\": \"Plot\", \"id\": \"ab21b797-eca3-4791-9e1a-362de8726071\"}}, \"type\": \"ResizeTool\", \"id\": \"31ac477e-d6a1-4b40-b5b8-7b4e24d612ce\"}, {\"attributes\": {\"plot\": {\"subtype\": \"Figure\", \"type\": \"Plot\", \"id\": \"3641668e-be7d-435f-b67c-4932467a6b09\"}, \"ticker\": {\"type\": \"BasicTicker\", \"id\": \"c0ba89c6-f2b7-4090-98a4-5317d1fc8776\"}}, \"type\": \"Grid\", \"id\": \"d1565447-f7d4-441b-bc31-6cc98e802324\"}, {\"attributes\": {}, \"type\": \"ToolEvents\", \"id\": \"4970ff8b-6927-4d71-97fd-f37122d900ef\"}, {\"attributes\": {}, \"type\": \"BasicTicker\", \"id\": \"c0ba89c6-f2b7-4090-98a4-5317d1fc8776\"}, {\"attributes\": {\"plot\": {\"subtype\": \"Figure\", \"type\": \"Plot\", \"id\": \"3641668e-be7d-435f-b67c-4932467a6b09\"}}, \"type\": \"WheelZoomTool\", \"id\": \"3150c144-0749-4ad7-8302-51c31d4c9125\"}, {\"attributes\": {\"line_color\": {\"value\": \"black\"}, \"line_alpha\": {\"value\": 1.0}, \"render_mode\": \"css\", \"bottom_units\": \"screen\", \"level\": \"overlay\", \"top_units\": \"screen\", \"fill_alpha\": {\"value\": 0.5}, \"plot\": null, \"left_units\": \"screen\", \"line_dash\": [4, 4], \"line_width\": {\"value\": 2}, \"right_units\": \"screen\", \"fill_color\": {\"value\": \"lightgrey\"}}, \"type\": \"BoxAnnotation\", \"id\": \"3fa7faad-03ca-42f3-95ea-072d32ff098a\"}, {\"attributes\": {\"plot\": {\"subtype\": \"Figure\", \"type\": \"Plot\", \"id\": \"c26003dd-d87f-4916-a9a2-da8851fa402e\"}, \"ticker\": {\"type\": \"BasicTicker\", \"id\": \"c10c2c0e-7b4e-41b9-8a46-088ce65560c4\"}}, \"type\": \"Grid\", \"id\": \"5f687537-6a5f-4fbd-8432-f8c23ba8127a\"}, {\"attributes\": {\"callback\": null}, \"type\": \"DataRange1d\", \"id\": \"8c7531d3-7644-40f8-a5a3-1ab0db21ccd4\"}, {\"attributes\": {\"nonselection_glyph\": {\"type\": \"Triangle\", \"id\": \"93a91d70-6bc7-4c29-b081-5f45bc5d5955\"}, \"data_source\": {\"type\": \"ColumnDataSource\", \"id\": \"c6026e13-f2d9-476a-b442-890c768beb5c\"}, \"selection_glyph\": null, \"hover_glyph\": null, \"glyph\": {\"type\": \"Triangle\", \"id\": \"f02a04d0-04a7-4ce6-a4fb-322064400fab\"}}, \"type\": \"GlyphRenderer\", \"id\": \"c2b5c992-b5dc-4149-bbe5-8cbf9d242602\"}, {\"attributes\": {}, \"type\": \"BasicTickFormatter\", \"id\": \"b664bcf3-e2c1-4184-8cf0-8520fa7631fb\"}, {\"attributes\": {\"plot\": {\"subtype\": \"Figure\", \"type\": \"Plot\", \"id\": \"3641668e-be7d-435f-b67c-4932467a6b09\"}}, \"type\": \"HelpTool\", \"id\": \"30589661-b7e8-4050-8a27-a0405c6b34be\"}, {\"attributes\": {\"plot\": {\"subtype\": \"Figure\", \"type\": \"Plot\", \"id\": \"c26003dd-d87f-4916-a9a2-da8851fa402e\"}, \"formatter\": {\"type\": \"BasicTickFormatter\", \"id\": \"d913729b-290a-4b0f-8762-48d7ca153a3e\"}, \"ticker\": {\"type\": \"BasicTicker\", \"id\": \"c84a2401-c356-46e1-b2f6-7cee560c0659\"}}, \"type\": \"LinearAxis\", \"id\": \"efaff52c-70a7-4e82-b48d-4b9d0a92a468\"}, {\"attributes\": {}, \"type\": \"ToolEvents\", \"id\": \"37021bdc-81c4-47ab-bb32-e9fe86916abc\"}, {\"attributes\": {\"plot\": {\"subtype\": \"Figure\", \"type\": \"Plot\", \"id\": \"8981acf9-d5d9-4fb9-a106-ae229fe1369f\"}, \"formatter\": {\"type\": \"BasicTickFormatter\", \"id\": \"9d040ab4-eb47-4ca9-9c38-10303ae772c3\"}, \"ticker\": {\"type\": \"BasicTicker\", \"id\": \"ed76c0d5-788f-4f8f-abec-88e04d18c9f5\"}}, \"type\": \"LinearAxis\", \"id\": \"d1efbded-63e0-4bff-b835-ee157a27a95d\"}, {\"attributes\": {\"plot\": {\"subtype\": \"Figure\", \"type\": \"Plot\", \"id\": \"8981acf9-d5d9-4fb9-a106-ae229fe1369f\"}}, \"type\": \"ResizeTool\", \"id\": \"b86ad72c-a95a-40eb-811d-3859d063d859\"}, {\"attributes\": {\"plot\": {\"subtype\": \"Figure\", \"type\": \"Plot\", \"id\": \"c26003dd-d87f-4916-a9a2-da8851fa402e\"}, \"ticker\": {\"type\": \"BasicTicker\", \"id\": \"c84a2401-c356-46e1-b2f6-7cee560c0659\"}, \"dimension\": 1}, \"type\": \"Grid\", \"id\": \"819854ec-553c-416c-ad3e-b51e0c3c61b4\"}, {\"attributes\": {\"callback\": null}, \"type\": \"DataRange1d\", \"id\": \"aab16ca0-6ef3-4976-8604-5c863fc26df5\"}, {\"attributes\": {\"plot\": {\"subtype\": \"Figure\", \"type\": \"Plot\", \"id\": \"3641668e-be7d-435f-b67c-4932467a6b09\"}}, \"type\": \"PreviewSaveTool\", \"id\": \"51fadadb-6923-4c3a-bf10-75d4a4cb98aa\"}, {\"attributes\": {\"plot\": {\"subtype\": \"Figure\", \"type\": \"Plot\", \"id\": \"ab21b797-eca3-4791-9e1a-362de8726071\"}}, \"type\": \"ResetTool\", \"id\": \"7d1b6f97-69b9-45de-8032-08882d12aeb5\"}, {\"attributes\": {\"nonselection_glyph\": {\"type\": \"Circle\", \"id\": \"5343c214-78aa-47cd-9339-c2ab55344afb\"}, \"data_source\": {\"type\": \"ColumnDataSource\", \"id\": \"079cfed2-97cd-4b63-8b2c-1cfc2caa7a35\"}, \"selection_glyph\": null, \"hover_glyph\": null, \"glyph\": {\"type\": \"Circle\", \"id\": \"b5cd8201-8591-44ad-8669-078dad99fdcd\"}}, \"type\": \"GlyphRenderer\", \"id\": \"e291e92e-53a9-49a5-b60a-9aed6a1d61ee\"}, {\"attributes\": {\"nonselection_glyph\": {\"type\": \"Circle\", \"id\": \"e3e87ea2-e574-413f-9da5-592902035bee\"}, \"data_source\": {\"type\": \"ColumnDataSource\", \"id\": \"de68c60e-ec56-4dec-a9c6-53baf12d87f2\"}, \"selection_glyph\": null, \"hover_glyph\": null, \"glyph\": {\"type\": \"Circle\", \"id\": \"cdf1be7a-8ca2-4013-9514-a99b6281747d\"}}, \"type\": \"GlyphRenderer\", \"id\": \"911550fc-38bc-44bb-9fb4-c30d9f255f18\"}, {\"attributes\": {}, \"type\": \"BasicTicker\", \"id\": \"c10c2c0e-7b4e-41b9-8a46-088ce65560c4\"}, {\"attributes\": {\"callback\": null}, \"type\": \"DataRange1d\", \"id\": \"3aefbdac-2356-461f-b52b-9eae0a0643ec\"}, {\"attributes\": {\"plot\": {\"subtype\": \"Figure\", \"type\": \"Plot\", \"id\": \"8981acf9-d5d9-4fb9-a106-ae229fe1369f\"}}, \"type\": \"ResetTool\", \"id\": \"abe8e5bd-037f-4a4e-a710-30b0ed536b65\"}, {\"attributes\": {}, \"type\": \"BasicTickFormatter\", \"id\": \"62e200f2-e6cb-46eb-abee-546f8272b6f2\"}, {\"attributes\": {\"plot\": {\"subtype\": \"Figure\", \"type\": \"Plot\", \"id\": \"ab21b797-eca3-4791-9e1a-362de8726071\"}, \"formatter\": {\"type\": \"BasicTickFormatter\", \"id\": \"3a7f4199-4d5f-4f9b-8942-be874eaf44f3\"}, \"ticker\": {\"type\": \"BasicTicker\", \"id\": \"17417e13-792e-4096-b25e-1237eba4fd11\"}}, \"type\": \"LinearAxis\", \"id\": \"0ee05da4-7e4f-4883-9b1b-5302f8da10c9\"}, {\"attributes\": {}, \"type\": \"BasicTicker\", \"id\": \"ed76c0d5-788f-4f8f-abec-88e04d18c9f5\"}, {\"attributes\": {}, \"type\": \"BasicTickFormatter\", \"id\": \"9d040ab4-eb47-4ca9-9c38-10303ae772c3\"}, {\"attributes\": {\"nonselection_glyph\": {\"type\": \"Triangle\", \"id\": \"d9ba56c9-37c8-447f-9f2a-468749fbe367\"}, \"data_source\": {\"type\": \"ColumnDataSource\", \"id\": \"f2671081-651a-44e0-a72a-7f5b954ecf8c\"}, \"selection_glyph\": null, \"hover_glyph\": null, \"glyph\": {\"type\": \"Triangle\", \"id\": \"411da5c9-102a-4d82-a459-6f534d97606d\"}}, \"type\": \"GlyphRenderer\", \"id\": \"5cbe8008-df16-4d78-98ad-b1b5a4ad4404\"}, {\"attributes\": {\"callback\": null}, \"type\": \"DataRange1d\", \"id\": \"06c7cf4f-811f-4601-9dad-e722405f8a68\"}, {\"attributes\": {\"line_color\": {\"value\": \"green\"}, \"line_alpha\": {\"value\": 0.5}, \"fill_color\": {\"value\": \"green\"}, \"fill_alpha\": {\"value\": 0.5}, \"y\": {\"field\": \"y\"}, \"x\": {\"field\": \"x\"}, \"size\": {\"units\": \"screen\", \"value\": 7}}, \"type\": \"Triangle\", \"id\": \"411da5c9-102a-4d82-a459-6f534d97606d\"}, {\"attributes\": {}, \"type\": \"BasicTicker\", \"id\": \"17417e13-792e-4096-b25e-1237eba4fd11\"}, {\"attributes\": {}, \"type\": \"BasicTicker\", \"id\": \"0a1fc9a5-9fd2-4792-af03-c63834031259\"}, {\"attributes\": {\"callback\": null, \"column_names\": [\"x\", \"y\"], \"data\": {\"y\": [0, 1, 2, 3, 6, 9, 10, 12, 15, 80, 0, 10, 0, 13, 25, 0, 1, 2, 28, 117, 0, 4, 12, 13, 83, 0, 17, 6, 37, 1, 2, 0, 1, 9, 3, 15, 1, 2, 6, 8, 15, 5, 6, 8, 13, 35, 46, 1, 2, 0, 3, 4, 57, 3, 16, 1, 27, 3, 0, 2, 145, 0, 3, 20, 0, 12, 66, 0, 14, 1, 5, 0, 2, 6, 4, 88], \"x\": [1, 1, 1, 1, 1, 1, 1, 1, 1, 1, 2, 2, 3, 3, 3, 4, 4, 4, 4, 4, 5, 5, 5, 5, 5, 6, 6, 7, 7, 8, 8, 9, 9, 9, 10, 10, 13, 13, 14, 14, 14, 15, 16, 16, 16, 16, 17, 18, 18, 19, 19, 19, 19, 20, 20, 21, 21, 22, 23, 23, 23, 24, 24, 24, 25, 27, 27, 30, 30, 31, 32, 33, 42, 42, 43, 48]}}, \"type\": \"ColumnDataSource\", \"id\": \"0e091535-c994-4722-b372-fdc698d92582\"}, {\"attributes\": {\"line_color\": {\"value\": \"firebrick\"}, \"line_alpha\": {\"value\": 0.5}, \"fill_color\": {\"value\": \"firebrick\"}, \"fill_alpha\": {\"value\": 0.5}, \"y\": {\"field\": \"y\"}, \"x\": {\"field\": \"x\"}, \"size\": {\"units\": \"screen\", \"value\": 7}}, \"type\": \"Circle\", \"id\": \"b5cd8201-8591-44ad-8669-078dad99fdcd\"}, {\"attributes\": {}, \"type\": \"BasicTickFormatter\", \"id\": \"1a80b014-12d3-45a9-b48e-0f221b0874a9\"}, {\"attributes\": {\"line_color\": {\"value\": \"#1f77b4\"}, \"line_alpha\": {\"value\": 0.1}, \"fill_color\": {\"value\": \"#1f77b4\"}, \"fill_alpha\": {\"value\": 0.1}, \"y\": {\"field\": \"y\"}, \"x\": {\"field\": \"x\"}, \"size\": {\"units\": \"screen\", \"value\": 9}}, \"type\": \"Circle\", \"id\": \"2020db5e-4e9d-4bcf-9a8f-b21705d198e3\"}, {\"attributes\": {\"plot\": {\"subtype\": \"Figure\", \"type\": \"Plot\", \"id\": \"8981acf9-d5d9-4fb9-a106-ae229fe1369f\"}}, \"type\": \"WheelZoomTool\", \"id\": \"8153b8db-d2d7-4f34-a6fc-194d6aa3b0a4\"}, {\"attributes\": {\"plot\": {\"subtype\": \"Figure\", \"type\": \"Plot\", \"id\": \"c26003dd-d87f-4916-a9a2-da8851fa402e\"}}, \"type\": \"HelpTool\", \"id\": \"1001231b-662a-49c2-911e-798af9c4de38\"}, {\"attributes\": {}, \"type\": \"BasicTicker\", \"id\": \"d5d98822-a692-4c1e-b876-af6b5143a65a\"}, {\"attributes\": {}, \"type\": \"BasicTicker\", \"id\": \"ee1ff7d4-d1f1-409a-b517-906db2d22fc4\"}, {\"attributes\": {\"plot\": {\"subtype\": \"Figure\", \"type\": \"Plot\", \"id\": \"ab21b797-eca3-4791-9e1a-362de8726071\"}}, \"type\": \"HelpTool\", \"id\": \"7fc6df66-f9ee-49e4-8baa-66db8dc6ff3d\"}, {\"attributes\": {\"plot\": {\"subtype\": \"Figure\", \"type\": \"Plot\", \"id\": \"8981acf9-d5d9-4fb9-a106-ae229fe1369f\"}, \"ticker\": {\"type\": \"BasicTicker\", \"id\": \"ed76c0d5-788f-4f8f-abec-88e04d18c9f5\"}, \"dimension\": 1}, \"type\": \"Grid\", \"id\": \"d2ea304e-8a78-4d2c-9048-adff7a24a78f\"}, {\"attributes\": {\"line_color\": {\"value\": \"#1f77b4\"}, \"line_alpha\": {\"value\": 0.1}, \"fill_color\": {\"value\": \"#1f77b4\"}, \"fill_alpha\": {\"value\": 0.1}, \"y\": {\"field\": \"y\"}, \"x\": {\"field\": \"x\"}, \"size\": {\"units\": \"screen\", \"value\": 9}}, \"type\": \"Triangle\", \"id\": \"93a91d70-6bc7-4c29-b081-5f45bc5d5955\"}, {\"attributes\": {\"plot\": {\"subtype\": \"Figure\", \"type\": \"Plot\", \"id\": \"8981acf9-d5d9-4fb9-a106-ae229fe1369f\"}, \"ticker\": {\"type\": \"BasicTicker\", \"id\": \"d5d98822-a692-4c1e-b876-af6b5143a65a\"}}, \"type\": \"Grid\", \"id\": \"023ff2c9-6df0-4f0f-afc5-5d7e1540e257\"}, {\"attributes\": {\"nonselection_glyph\": {\"type\": \"Triangle\", \"id\": \"955acfbd-216b-400c-98e7-9a9a3cd35016\"}, \"data_source\": {\"type\": \"ColumnDataSource\", \"id\": \"f4165f4d-92dc-492d-b3b9-f355fdcafaae\"}, \"selection_glyph\": null, \"hover_glyph\": null, \"glyph\": {\"type\": \"Triangle\", \"id\": \"0ebd5f81-3915-434b-b4a5-f2b5d24cf580\"}}, \"type\": \"GlyphRenderer\", \"id\": \"69705bbe-2214-457e-a7f0-ecd80f010bb1\"}, {\"attributes\": {\"line_color\": {\"value\": \"black\"}, \"line_alpha\": {\"value\": 1.0}, \"render_mode\": \"css\", \"bottom_units\": \"screen\", \"level\": \"overlay\", \"top_units\": \"screen\", \"fill_alpha\": {\"value\": 0.5}, \"plot\": null, \"left_units\": \"screen\", \"line_dash\": [4, 4], \"line_width\": {\"value\": 2}, \"right_units\": \"screen\", \"fill_color\": {\"value\": \"lightgrey\"}}, \"type\": \"BoxAnnotation\", \"id\": \"76beb4be-7b85-4ca4-bb77-743b2e21b8e1\"}, {\"attributes\": {\"x_range\": {\"type\": \"DataRange1d\", \"id\": \"be07ac0f-5996-4444-a90a-bbe6badef5bf\"}, \"title\": \"Effect of Host Desciption on Reviews\", \"y_range\": {\"type\": \"DataRange1d\", \"id\": \"aab16ca0-6ef3-4976-8604-5c863fc26df5\"}, \"renderers\": [{\"type\": \"LinearAxis\", \"id\": \"9e83311f-096c-4e0a-be40-6fdd978c4936\"}, {\"type\": \"Grid\", \"id\": \"d1565447-f7d4-441b-bc31-6cc98e802324\"}, {\"type\": \"LinearAxis\", \"id\": \"5161265e-e685-4644-aa2a-08ffed9c181f\"}, {\"type\": \"Grid\", \"id\": \"3a5da0f6-ca4e-4882-b0dc-d2aaf9cb884c\"}, {\"type\": \"BoxAnnotation\", \"id\": \"76beb4be-7b85-4ca4-bb77-743b2e21b8e1\"}, {\"type\": \"GlyphRenderer\", \"id\": \"911550fc-38bc-44bb-9fb4-c30d9f255f18\"}, {\"type\": \"GlyphRenderer\", \"id\": \"69705bbe-2214-457e-a7f0-ecd80f010bb1\"}], \"plot_width\": 500, \"below\": [{\"type\": \"LinearAxis\", \"id\": \"9e83311f-096c-4e0a-be40-6fdd978c4936\"}], \"tool_events\": {\"type\": \"ToolEvents\", \"id\": \"4970ff8b-6927-4d71-97fd-f37122d900ef\"}, \"plot_height\": 500, \"tools\": [{\"type\": \"PanTool\", \"id\": \"d5443372-3e6f-479d-a47d-487866c30133\"}, {\"type\": \"WheelZoomTool\", \"id\": \"3150c144-0749-4ad7-8302-51c31d4c9125\"}, {\"type\": \"BoxZoomTool\", \"id\": \"24dbae3e-3609-4215-ab05-d1da60edd7cf\"}, {\"type\": \"PreviewSaveTool\", \"id\": \"51fadadb-6923-4c3a-bf10-75d4a4cb98aa\"}, {\"type\": \"ResizeTool\", \"id\": \"47dcb047-2e9f-45da-8c72-1bdad10a19cf\"}, {\"type\": \"ResetTool\", \"id\": \"5ce144b6-18b3-420c-8fd6-bcc9facbefaa\"}, {\"type\": \"HelpTool\", \"id\": \"30589661-b7e8-4050-8a27-a0405c6b34be\"}], \"left\": [{\"type\": \"LinearAxis\", \"id\": \"5161265e-e685-4644-aa2a-08ffed9c181f\"}]}, \"type\": \"Plot\", \"id\": \"3641668e-be7d-435f-b67c-4932467a6b09\", \"subtype\": \"Figure\"}, {\"attributes\": {\"plot\": {\"subtype\": \"Figure\", \"type\": \"Plot\", \"id\": \"3641668e-be7d-435f-b67c-4932467a6b09\"}, \"ticker\": {\"type\": \"BasicTicker\", \"id\": \"ee1ff7d4-d1f1-409a-b517-906db2d22fc4\"}, \"dimension\": 1}, \"type\": \"Grid\", \"id\": \"3a5da0f6-ca4e-4882-b0dc-d2aaf9cb884c\"}, {\"attributes\": {\"x_range\": {\"type\": \"DataRange1d\", \"id\": \"06c7cf4f-811f-4601-9dad-e722405f8a68\"}, \"y_range\": {\"type\": \"DataRange1d\", \"id\": \"25f4e4a1-d111-43d2-bba0-9d91ef84a148\"}, \"renderers\": [{\"type\": \"LinearAxis\", \"id\": \"0ee05da4-7e4f-4883-9b1b-5302f8da10c9\"}, {\"type\": \"Grid\", \"id\": \"8c8cd76d-c618-4716-a2b4-dd131176b0ed\"}, {\"type\": \"LinearAxis\", \"id\": \"add3dc41-5bde-4499-be53-8ca066318d0a\"}, {\"type\": \"Grid\", \"id\": \"b4d243ca-22f8-4eb7-b726-98aa9e6e5276\"}, {\"type\": \"BoxAnnotation\", \"id\": \"d84a6894-9395-4c16-aca8-bd040978ad4d\"}, {\"type\": \"GlyphRenderer\", \"id\": \"e291e92e-53a9-49a5-b60a-9aed6a1d61ee\"}, {\"type\": \"GlyphRenderer\", \"id\": \"5cbe8008-df16-4d78-98ad-b1b5a4ad4404\"}], \"plot_width\": 500, \"below\": [{\"type\": \"LinearAxis\", \"id\": \"0ee05da4-7e4f-4883-9b1b-5302f8da10c9\"}], \"tool_events\": {\"type\": \"ToolEvents\", \"id\": \"5a6e3e55-e736-4201-a633-c59fddd5ad40\"}, \"plot_height\": 500, \"tools\": [{\"type\": \"PanTool\", \"id\": \"602cdb34-0848-4dc4-b74b-eeef50111f35\"}, {\"type\": \"WheelZoomTool\", \"id\": \"af5d194b-1a3c-4be2-8567-bdb682fcb4a7\"}, {\"type\": \"BoxZoomTool\", \"id\": \"2ca2a685-a5d1-4dfb-a465-21a71aa2bab5\"}, {\"type\": \"PreviewSaveTool\", \"id\": \"1f87f74b-f3aa-47c0-bfb3-ca6fcd5fc54b\"}, {\"type\": \"ResizeTool\", \"id\": \"31ac477e-d6a1-4b40-b5b8-7b4e24d612ce\"}, {\"type\": \"ResetTool\", \"id\": \"7d1b6f97-69b9-45de-8032-08882d12aeb5\"}, {\"type\": \"HelpTool\", \"id\": \"7fc6df66-f9ee-49e4-8baa-66db8dc6ff3d\"}], \"left\": [{\"type\": \"LinearAxis\", \"id\": \"add3dc41-5bde-4499-be53-8ca066318d0a\"}]}, \"type\": \"Plot\", \"id\": \"ab21b797-eca3-4791-9e1a-362de8726071\", \"subtype\": \"Figure\"}, {\"attributes\": {\"plot\": {\"subtype\": \"Figure\", \"type\": \"Plot\", \"id\": \"ab21b797-eca3-4791-9e1a-362de8726071\"}, \"overlay\": {\"type\": \"BoxAnnotation\", \"id\": \"d84a6894-9395-4c16-aca8-bd040978ad4d\"}}, \"type\": \"BoxZoomTool\", \"id\": \"2ca2a685-a5d1-4dfb-a465-21a71aa2bab5\"}, {\"attributes\": {\"plot\": {\"subtype\": \"Figure\", \"type\": \"Plot\", \"id\": \"8981acf9-d5d9-4fb9-a106-ae229fe1369f\"}}, \"type\": \"PreviewSaveTool\", \"id\": \"210ce6d9-79e8-40fd-ac4f-6d3240b227cd\"}, {\"attributes\": {\"plot\": {\"subtype\": \"Figure\", \"type\": \"Plot\", \"id\": \"c26003dd-d87f-4916-a9a2-da8851fa402e\"}, \"overlay\": {\"type\": \"BoxAnnotation\", \"id\": \"3fa7faad-03ca-42f3-95ea-072d32ff098a\"}}, \"type\": \"BoxZoomTool\", \"id\": \"f0b6a4e4-3d7c-4faa-8e31-7330bc1e1096\"}, {\"attributes\": {\"nonselection_glyph\": {\"type\": \"Circle\", \"id\": \"2020db5e-4e9d-4bcf-9a8f-b21705d198e3\"}, \"data_source\": {\"type\": \"ColumnDataSource\", \"id\": \"0e091535-c994-4722-b372-fdc698d92582\"}, \"selection_glyph\": null, \"hover_glyph\": null, \"glyph\": {\"type\": \"Circle\", \"id\": \"62930719-778a-434d-8397-52635aca4efc\"}}, \"type\": \"GlyphRenderer\", \"id\": \"4e240bad-db29-47ec-bf90-60c85ed49384\"}, {\"attributes\": {\"callback\": null, \"column_names\": [\"x\", \"y\"], \"data\": {\"y\": [0, 1, 2, 3, 6, 9, 10, 12, 15, 80, 0, 10, 0, 13, 25, 0, 1, 2, 28, 117, 0, 4, 12, 13, 83, 0, 17, 6, 37, 1, 2, 0, 1, 9, 3, 15, 1, 2, 6, 8, 15, 5, 6, 8, 13, 35, 46, 1, 2, 0, 3, 4, 57, 3, 16, 1, 27, 3, 0, 2, 145, 0, 3, 20, 0, 12, 66, 0, 14, 1, 5, 0, 2, 6, 4, 88], \"x\": [1, 1, 1, 1, 1, 1, 1, 1, 1, 1, 2, 2, 3, 3, 3, 4, 4, 4, 4, 4, 5, 5, 5, 5, 5, 6, 6, 7, 7, 8, 8, 9, 9, 9, 10, 10, 13, 13, 14, 14, 14, 15, 16, 16, 16, 16, 17, 18, 18, 19, 19, 19, 19, 20, 20, 21, 21, 22, 23, 23, 23, 24, 24, 24, 25, 27, 27, 30, 30, 31, 32, 33, 42, 42, 43, 48]}}, \"type\": \"ColumnDataSource\", \"id\": \"079cfed2-97cd-4b63-8b2c-1cfc2caa7a35\"}, {\"attributes\": {\"plot\": {\"subtype\": \"Figure\", \"type\": \"Plot\", \"id\": \"3641668e-be7d-435f-b67c-4932467a6b09\"}}, \"type\": \"ResizeTool\", \"id\": \"47dcb047-2e9f-45da-8c72-1bdad10a19cf\"}, {\"attributes\": {\"plot\": {\"subtype\": \"Figure\", \"type\": \"Plot\", \"id\": \"3641668e-be7d-435f-b67c-4932467a6b09\"}, \"formatter\": {\"type\": \"BasicTickFormatter\", \"id\": \"1a80b014-12d3-45a9-b48e-0f221b0874a9\"}, \"ticker\": {\"type\": \"BasicTicker\", \"id\": \"c0ba89c6-f2b7-4090-98a4-5317d1fc8776\"}}, \"type\": \"LinearAxis\", \"id\": \"9e83311f-096c-4e0a-be40-6fdd978c4936\"}, {\"attributes\": {\"line_color\": {\"value\": \"#1f77b4\"}, \"line_alpha\": {\"value\": 0.1}, \"fill_color\": {\"value\": \"#1f77b4\"}, \"fill_alpha\": {\"value\": 0.1}, \"y\": {\"field\": \"y\"}, \"x\": {\"field\": \"x\"}, \"size\": {\"units\": \"screen\", \"value\": 7}}, \"type\": \"Triangle\", \"id\": \"d9ba56c9-37c8-447f-9f2a-468749fbe367\"}, {\"attributes\": {\"line_color\": {\"value\": \"#1f77b4\"}, \"line_alpha\": {\"value\": 0.1}, \"fill_color\": {\"value\": \"#1f77b4\"}, \"fill_alpha\": {\"value\": 0.1}, \"y\": {\"field\": \"y\"}, \"x\": {\"field\": \"x\"}, \"size\": {\"units\": \"screen\", \"value\": 9}}, \"type\": \"Circle\", \"id\": \"e3e87ea2-e574-413f-9da5-592902035bee\"}, {\"attributes\": {\"plot\": {\"subtype\": \"Figure\", \"type\": \"Plot\", \"id\": \"8981acf9-d5d9-4fb9-a106-ae229fe1369f\"}, \"formatter\": {\"type\": \"BasicTickFormatter\", \"id\": \"0e06b97b-4a64-4418-873b-78dd49f34af8\"}, \"ticker\": {\"type\": \"BasicTicker\", \"id\": \"d5d98822-a692-4c1e-b876-af6b5143a65a\"}}, \"type\": \"LinearAxis\", \"id\": \"826af24e-ecd2-4448-b940-5c73b837a6ae\"}, {\"attributes\": {\"plot\": {\"subtype\": \"Figure\", \"type\": \"Plot\", \"id\": \"ab21b797-eca3-4791-9e1a-362de8726071\"}, \"ticker\": {\"type\": \"BasicTicker\", \"id\": \"0a1fc9a5-9fd2-4792-af03-c63834031259\"}, \"dimension\": 1}, \"type\": \"Grid\", \"id\": \"b4d243ca-22f8-4eb7-b726-98aa9e6e5276\"}, {\"attributes\": {\"callback\": null}, \"type\": \"DataRange1d\", \"id\": \"be07ac0f-5996-4444-a90a-bbe6badef5bf\"}, {\"attributes\": {\"line_color\": {\"value\": \"#1f77b4\"}, \"line_alpha\": {\"value\": 0.1}, \"fill_color\": {\"value\": \"#1f77b4\"}, \"fill_alpha\": {\"value\": 0.1}, \"y\": {\"field\": \"y\"}, \"x\": {\"field\": \"x\"}, \"size\": {\"units\": \"screen\", \"value\": 7}}, \"type\": \"Circle\", \"id\": \"5343c214-78aa-47cd-9339-c2ab55344afb\"}, {\"attributes\": {\"callback\": null}, \"type\": \"DataRange1d\", \"id\": \"25f4e4a1-d111-43d2-bba0-9d91ef84a148\"}, {\"attributes\": {}, \"type\": \"BasicTicker\", \"id\": \"c84a2401-c356-46e1-b2f6-7cee560c0659\"}, {\"attributes\": {}, \"type\": \"ToolEvents\", \"id\": \"b987c0da-4c8a-4f7c-ab52-844aae079895\"}, {\"attributes\": {\"plot\": {\"subtype\": \"Figure\", \"type\": \"Plot\", \"id\": \"c26003dd-d87f-4916-a9a2-da8851fa402e\"}, \"formatter\": {\"type\": \"BasicTickFormatter\", \"id\": \"62e200f2-e6cb-46eb-abee-546f8272b6f2\"}, \"ticker\": {\"type\": \"BasicTicker\", \"id\": \"c10c2c0e-7b4e-41b9-8a46-088ce65560c4\"}}, \"type\": \"LinearAxis\", \"id\": \"067a14a6-35f8-4a9d-93a0-7f8105017998\"}, {\"attributes\": {\"plot\": {\"subtype\": \"Figure\", \"type\": \"Plot\", \"id\": \"ab21b797-eca3-4791-9e1a-362de8726071\"}, \"formatter\": {\"type\": \"BasicTickFormatter\", \"id\": \"0581aa6f-31a2-4732-a4b4-96b961707b22\"}, \"ticker\": {\"type\": \"BasicTicker\", \"id\": \"0a1fc9a5-9fd2-4792-af03-c63834031259\"}}, \"type\": \"LinearAxis\", \"id\": \"add3dc41-5bde-4499-be53-8ca066318d0a\"}, {\"attributes\": {\"plot\": {\"subtype\": \"Figure\", \"type\": \"Plot\", \"id\": \"3641668e-be7d-435f-b67c-4932467a6b09\"}}, \"type\": \"PanTool\", \"id\": \"d5443372-3e6f-479d-a47d-487866c30133\"}, {\"attributes\": {\"x_range\": {\"type\": \"DataRange1d\", \"id\": \"60655d66-56c5-4a42-9f51-1ded3e812ae6\"}, \"y_range\": {\"type\": \"DataRange1d\", \"id\": \"3aefbdac-2356-461f-b52b-9eae0a0643ec\"}, \"renderers\": [{\"type\": \"LinearAxis\", \"id\": \"826af24e-ecd2-4448-b940-5c73b837a6ae\"}, {\"type\": \"Grid\", \"id\": \"023ff2c9-6df0-4f0f-afc5-5d7e1540e257\"}, {\"type\": \"LinearAxis\", \"id\": \"d1efbded-63e0-4bff-b835-ee157a27a95d\"}, {\"type\": \"Grid\", \"id\": \"d2ea304e-8a78-4d2c-9048-adff7a24a78f\"}, {\"type\": \"BoxAnnotation\", \"id\": \"e90b1a09-3f06-4c12-83ab-271f81106118\"}, {\"type\": \"GlyphRenderer\", \"id\": \"4e240bad-db29-47ec-bf90-60c85ed49384\"}, {\"type\": \"GlyphRenderer\", \"id\": \"c2b5c992-b5dc-4149-bbe5-8cbf9d242602\"}], \"plot_width\": 500, \"below\": [{\"type\": \"LinearAxis\", \"id\": \"826af24e-ecd2-4448-b940-5c73b837a6ae\"}], \"tool_events\": {\"type\": \"ToolEvents\", \"id\": \"b987c0da-4c8a-4f7c-ab52-844aae079895\"}, \"plot_height\": 500, \"tools\": [{\"type\": \"PanTool\", \"id\": \"ce9dc1a9-b50c-4654-a500-2a68a0bdaf19\"}, {\"type\": \"WheelZoomTool\", \"id\": \"8153b8db-d2d7-4f34-a6fc-194d6aa3b0a4\"}, {\"type\": \"BoxZoomTool\", \"id\": \"546dab14-c8d6-44cb-97a9-9bba73baf2e8\"}, {\"type\": \"PreviewSaveTool\", \"id\": \"210ce6d9-79e8-40fd-ac4f-6d3240b227cd\"}, {\"type\": \"ResizeTool\", \"id\": \"b86ad72c-a95a-40eb-811d-3859d063d859\"}, {\"type\": \"ResetTool\", \"id\": \"abe8e5bd-037f-4a4e-a710-30b0ed536b65\"}, {\"type\": \"HelpTool\", \"id\": \"675522ba-6cd5-4359-98be-375fbb3c9453\"}], \"left\": [{\"type\": \"LinearAxis\", \"id\": \"d1efbded-63e0-4bff-b835-ee157a27a95d\"}]}, \"type\": \"Plot\", \"id\": \"8981acf9-d5d9-4fb9-a106-ae229fe1369f\", \"subtype\": \"Figure\"}, {\"attributes\": {\"plot\": {\"subtype\": \"Figure\", \"type\": \"Plot\", \"id\": \"ab21b797-eca3-4791-9e1a-362de8726071\"}}, \"type\": \"WheelZoomTool\", \"id\": \"af5d194b-1a3c-4be2-8567-bdb682fcb4a7\"}, {\"attributes\": {\"plot\": {\"subtype\": \"Figure\", \"type\": \"Plot\", \"id\": \"3641668e-be7d-435f-b67c-4932467a6b09\"}}, \"type\": \"ResetTool\", \"id\": \"5ce144b6-18b3-420c-8fd6-bcc9facbefaa\"}, {\"attributes\": {\"plot\": {\"subtype\": \"Figure\", \"type\": \"Plot\", \"id\": \"c26003dd-d87f-4916-a9a2-da8851fa402e\"}}, \"type\": \"PreviewSaveTool\", \"id\": \"9a00b0d8-d015-4ae9-b87c-b570072b6648\"}, {\"attributes\": {\"plot\": {\"subtype\": \"Figure\", \"type\": \"Plot\", \"id\": \"3641668e-be7d-435f-b67c-4932467a6b09\"}, \"overlay\": {\"type\": \"BoxAnnotation\", \"id\": \"76beb4be-7b85-4ca4-bb77-743b2e21b8e1\"}}, \"type\": \"BoxZoomTool\", \"id\": \"24dbae3e-3609-4215-ab05-d1da60edd7cf\"}, {\"attributes\": {\"plot\": {\"subtype\": \"Figure\", \"type\": \"Plot\", \"id\": \"ab21b797-eca3-4791-9e1a-362de8726071\"}, \"ticker\": {\"type\": \"BasicTicker\", \"id\": \"17417e13-792e-4096-b25e-1237eba4fd11\"}}, \"type\": \"Grid\", \"id\": \"8c8cd76d-c618-4716-a2b4-dd131176b0ed\"}, {\"attributes\": {\"callback\": null, \"column_names\": [\"y\", \"x\"], \"data\": {\"y\": [0, 87, 90, 92, 95, 96, 98, 100, 0, 94, 0, 91, 94, 0, 77, 96, 100, 0, 83, 93, 97, 100, 0, 93, 81, 87, 100, 0, 80, 100, 85, 100, 100, 90, 92, 97, 100, 89, 90, 93, 96, 98, 90, 100, 0, 92, 93, 95, 87, 97, 86, 100, 73, 0, 88, 100, 0, 96, 100, 0, 92, 94, 0, 100, 100, 88, 0, 80, 93, 85, 100, 89], \"x\": [1, 1, 1, 1, 1, 1, 1, 1, 2, 2, 3, 3, 3, 4, 4, 4, 4, 5, 5, 5, 5, 5, 6, 6, 7, 7, 8, 9, 9, 9, 10, 10, 13, 14, 14, 14, 15, 16, 16, 16, 16, 17, 18, 18, 19, 19, 19, 19, 20, 20, 21, 21, 22, 23, 23, 23, 24, 24, 24, 25, 27, 27, 30, 30, 31, 32, 33, 42, 42, 43, 43, 48]}}, \"type\": \"ColumnDataSource\", \"id\": \"f4165f4d-92dc-492d-b3b9-f355fdcafaae\"}]}, \"title\": \"Bokeh Application\"}};\n",
       "            var render_items = [{\"notebook_comms_target\": \"65f79393-35f7-4ca0-aba5-aa38161f9837\", \"docid\": \"816c4bff-fd14-4550-b0a5-ea944ea88a24\", \"elementid\": \"22a47b10-1058-47b2-b45d-861c87ef3027\", \"modelid\": \"3641668e-be7d-435f-b67c-4932467a6b09\"}];\n",
       "            \n",
       "            Bokeh.embed.embed_items(docs_json, render_items);\n",
       "        });\n",
       "      },\n",
       "      function(Bokeh) {\n",
       "      }\n",
       "    ];\n",
       "  \n",
       "    function run_inline_js() {\n",
       "      for (var i = 0; i < inline_js.length; i++) {\n",
       "        inline_js[i](window.Bokeh);\n",
       "      }\n",
       "    }\n",
       "  \n",
       "    if (window._bokeh_is_loading === 0) {\n",
       "      console.log(\"Bokeh: BokehJS loaded, going straight to plotting\");\n",
       "      run_inline_js();\n",
       "    } else {\n",
       "      load_libs(js_urls, function() {\n",
       "        console.log(\"Bokeh: BokehJS plotting callback run at\", now());\n",
       "        run_inline_js();\n",
       "      });\n",
       "    }\n",
       "  }(this));\n",
       "</script>"
      ]
     },
     "metadata": {},
     "output_type": "display_data"
    },
    {
     "data": {
      "text/plain": [
       "<bokeh.io._CommsHandle at 0x118a34c50>"
      ]
     },
     "execution_count": 38,
     "metadata": {},
     "output_type": "execute_result"
    }
   ],
   "source": [
    "p = figure(width=500, height=500, title=\"Effect of Host Desciption on Reviews\")\n",
    "p.circle(df2['info'], df2['Number'], size=9, color=\"firebrick\", alpha=0.5)\n",
    "p.triangle(x=df3['info'], y=df3['Score'], size=9, color=\"green\", alpha=0.5)\n",
    "show(p)"
   ]
  },
  {
   "cell_type": "code",
   "execution_count": null,
   "metadata": {
    "collapsed": true
   },
   "outputs": [],
   "source": []
  },
  {
   "cell_type": "code",
   "execution_count": null,
   "metadata": {
    "collapsed": true
   },
   "outputs": [],
   "source": []
  }
 ],
 "metadata": {
  "kernelspec": {
   "display_name": "Python 2",
   "language": "python",
   "name": "python2"
  },
  "language_info": {
   "codemirror_mode": {
    "name": "ipython",
    "version": 2
   },
   "file_extension": ".py",
   "mimetype": "text/x-python",
   "name": "python",
   "nbconvert_exporter": "python",
   "pygments_lexer": "ipython2",
   "version": "2.7.11"
  }
 },
 "nbformat": 4,
 "nbformat_minor": 0
}
